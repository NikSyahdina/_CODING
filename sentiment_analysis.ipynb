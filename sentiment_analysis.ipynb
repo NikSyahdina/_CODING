{
 "cells": [
  {
   "cell_type": "code",
   "execution_count": 13,
   "metadata": {},
   "outputs": [],
   "source": [
    "import pandas as pd\n",
    "from vaderSentiment.vaderSentiment import SentimentIntensityAnalyzer\n",
    "\n",
    "# Read the CSV file into a DataFrame\n",
    "df = pd.read_csv(r\"D:\\uni dina\\PSM2\\_CODING\\DATASET\\preprocessed_data.csv\")\n"
   ]
  },
  {
   "cell_type": "code",
   "execution_count": 14,
   "metadata": {},
   "outputs": [
    {
     "data": {
      "text/html": [
       "<div>\n",
       "<style scoped>\n",
       "    .dataframe tbody tr th:only-of-type {\n",
       "        vertical-align: middle;\n",
       "    }\n",
       "\n",
       "    .dataframe tbody tr th {\n",
       "        vertical-align: top;\n",
       "    }\n",
       "\n",
       "    .dataframe thead th {\n",
       "        text-align: right;\n",
       "    }\n",
       "</style>\n",
       "<table border=\"1\" class=\"dataframe\">\n",
       "  <thead>\n",
       "    <tr style=\"text-align: right;\">\n",
       "      <th></th>\n",
       "      <th>tweet_content</th>\n",
       "      <th>label</th>\n",
       "    </tr>\n",
       "  </thead>\n",
       "  <tbody>\n",
       "    <tr>\n",
       "      <th>0</th>\n",
       "      <td>lack understand small signific part caus anxie...</td>\n",
       "      <td>1</td>\n",
       "    </tr>\n",
       "    <tr>\n",
       "      <th>1</th>\n",
       "      <td>told parent depress hard get gen x peopl under...</td>\n",
       "      <td>1</td>\n",
       "    </tr>\n",
       "    <tr>\n",
       "      <th>2</th>\n",
       "      <td>depress someth dont speak even go also doubl e...</td>\n",
       "      <td>1</td>\n",
       "    </tr>\n",
       "    <tr>\n",
       "      <th>3</th>\n",
       "      <td>made tortilla fill pbj depress cure olivia dep...</td>\n",
       "      <td>1</td>\n",
       "    </tr>\n",
       "    <tr>\n",
       "      <th>4</th>\n",
       "      <td>gon na need depress med soon rainout spin equi...</td>\n",
       "      <td>1</td>\n",
       "    </tr>\n",
       "  </tbody>\n",
       "</table>\n",
       "</div>"
      ],
      "text/plain": [
       "                                       tweet_content  label\n",
       "0  lack understand small signific part caus anxie...      1\n",
       "1  told parent depress hard get gen x peopl under...      1\n",
       "2  depress someth dont speak even go also doubl e...      1\n",
       "3  made tortilla fill pbj depress cure olivia dep...      1\n",
       "4  gon na need depress med soon rainout spin equi...      1"
      ]
     },
     "execution_count": 14,
     "metadata": {},
     "output_type": "execute_result"
    }
   ],
   "source": [
    "df.head()"
   ]
  },
  {
   "cell_type": "code",
   "execution_count": 15,
   "metadata": {},
   "outputs": [
    {
     "data": {
      "text/html": [
       "<div>\n",
       "<style scoped>\n",
       "    .dataframe tbody tr th:only-of-type {\n",
       "        vertical-align: middle;\n",
       "    }\n",
       "\n",
       "    .dataframe tbody tr th {\n",
       "        vertical-align: top;\n",
       "    }\n",
       "\n",
       "    .dataframe thead th {\n",
       "        text-align: right;\n",
       "    }\n",
       "</style>\n",
       "<table border=\"1\" class=\"dataframe\">\n",
       "  <thead>\n",
       "    <tr style=\"text-align: right;\">\n",
       "      <th></th>\n",
       "      <th>tweet_content</th>\n",
       "      <th>label</th>\n",
       "    </tr>\n",
       "  </thead>\n",
       "  <tbody>\n",
       "    <tr>\n",
       "      <th>8151</th>\n",
       "      <td>go anyon charlott want come tonight play flash...</td>\n",
       "      <td>0</td>\n",
       "    </tr>\n",
       "    <tr>\n",
       "      <th>8152</th>\n",
       "      <td>sun x</td>\n",
       "      <td>0</td>\n",
       "    </tr>\n",
       "    <tr>\n",
       "      <th>8153</th>\n",
       "      <td>where gvsu woman ya need one</td>\n",
       "      <td>0</td>\n",
       "    </tr>\n",
       "    <tr>\n",
       "      <th>8154</th>\n",
       "      <td>shoot tonight murder miskeeto mainli feet slig...</td>\n",
       "      <td>0</td>\n",
       "    </tr>\n",
       "    <tr>\n",
       "      <th>8155</th>\n",
       "      <td>birdi lucki die morn sooo sad</td>\n",
       "      <td>0</td>\n",
       "    </tr>\n",
       "  </tbody>\n",
       "</table>\n",
       "</div>"
      ],
      "text/plain": [
       "                                          tweet_content  label\n",
       "8151  go anyon charlott want come tonight play flash...      0\n",
       "8152                                              sun x      0\n",
       "8153                       where gvsu woman ya need one      0\n",
       "8154  shoot tonight murder miskeeto mainli feet slig...      0\n",
       "8155                      birdi lucki die morn sooo sad      0"
      ]
     },
     "execution_count": 15,
     "metadata": {},
     "output_type": "execute_result"
    }
   ],
   "source": [
    "df.tail()"
   ]
  },
  {
   "cell_type": "code",
   "execution_count": 16,
   "metadata": {},
   "outputs": [
    {
     "name": "stdout",
     "output_type": "stream",
     "text": [
      "Columns with NaN values:\n",
      "tweet_content    23\n",
      "dtype: int64\n"
     ]
    }
   ],
   "source": [
    "# Check for NaN values in each column\n",
    "nan_count = df.isna().sum()\n",
    "\n",
    "# Print the columns with NaN values and their respective counts\n",
    "print(\"Columns with NaN values:\")\n",
    "print(nan_count[nan_count > 0])"
   ]
  },
  {
   "cell_type": "code",
   "execution_count": 17,
   "metadata": {},
   "outputs": [],
   "source": [
    "# Drop rows with NaN values\n",
    "df.dropna(inplace=True)"
   ]
  },
  {
   "cell_type": "code",
   "execution_count": 18,
   "metadata": {},
   "outputs": [
    {
     "name": "stdout",
     "output_type": "stream",
     "text": [
      "Columns with NaN values:\n",
      "Series([], dtype: int64)\n"
     ]
    }
   ],
   "source": [
    "# Check for NaN values in each column\n",
    "nan_count = df.isna().sum()\n",
    "\n",
    "# Print the columns with NaN values and their respective counts\n",
    "print(\"Columns with NaN values:\")\n",
    "print(nan_count[nan_count > 0])"
   ]
  },
  {
   "cell_type": "code",
   "execution_count": 19,
   "metadata": {},
   "outputs": [],
   "source": [
    "# Save the DataFrame to a new CSV file\n",
    "df.to_csv(r\"D:\\uni dina\\PSM2\\_CODING\\DATASET\\preprocessed_data_v2.csv\", index=False)"
   ]
  },
  {
   "cell_type": "code",
   "execution_count": 20,
   "metadata": {},
   "outputs": [],
   "source": [
    "corpus = pd.read_csv(r\"D:\\uni dina\\PSM2\\_CODING\\DATASET\\preprocessed_data_v2.csv\")"
   ]
  },
  {
   "cell_type": "code",
   "execution_count": 21,
   "metadata": {},
   "outputs": [],
   "source": [
    "import pandas as pd\n",
    "from vaderSentiment.vaderSentiment import SentimentIntensityAnalyzer\n",
    "\n",
    "# Initialize VADER Sentiment Analyzer\n",
    "analyzer = SentimentIntensityAnalyzer()\n",
    "\n",
    "# Function to calculate sentiment scores of the sentence\n",
    "def sentiment_scores(sentence):\n",
    "    # Create a SentimentIntensityAnalyzer object\n",
    "    sid_obj = SentimentIntensityAnalyzer()\n",
    "\n",
    "    # polarity_scores method of SentimentIntensityAnalyzer object gives a sentiment dictionary\n",
    "    sentiment_dict = sid_obj.polarity_scores(sentence)\n",
    "    \n",
    "    # Normalize positive and negative scores so they add up to 1\n",
    "    pos_score = sentiment_dict['pos']\n",
    "    neg_score = sentiment_dict['neg']\n",
    "    total_score = pos_score + neg_score\n",
    "\n",
    "    if total_score != 0:\n",
    "        pos_score /= total_score\n",
    "        neg_score /= total_score\n",
    "    \n",
    "    if sentiment_dict['compound'] >= 0.05:\n",
    "        sentiment = \"Positive\"\n",
    "    else:\n",
    "        sentiment = \"Negative\"\n",
    "\n",
    "    return {\n",
    "        \"Tweet\": sentence,\n",
    "        \"Negative\": neg_score,\n",
    "        \"Positive\": pos_score,\n",
    "        \"Overall Sentiment\": sentiment\n",
    "    }\n",
    "    # Decide sentiment as positive or negative\n",
    "    #if sentiment_dict['compound'] >= 0.05:\n",
    "     #   sentiment = \"Positive\"\n",
    "    #elif sentiment_dict['compound'] <= -0.05:\n",
    "    #    sentiment = \"Negative\"\n",
    "    #else:\n",
    "    #    sentiment = \"Neutral\" ////////////// hello kenapa ada lagi??\n",
    "    #else: sentiment_dict['compound'] <= - 0.05:\n",
    "    #sentiment = \"Negative\"\n",
    "        "
   ]
  },
  {
   "cell_type": "code",
   "execution_count": 22,
   "metadata": {},
   "outputs": [],
   "source": [
    "# Read the CSV file into a DataFrame\n",
    "df = pd.read_csv(r\"D:\\uni dina\\PSM2\\_CODING\\DATASET\\preprocessed_data_v2.csv\")\n",
    "\n",
    "# List to store sentiment scores\n",
    "sentiment_data = []\n",
    "\n",
    "# Apply VADER sentiment analysis to each tweet\n",
    "for index, row in df.iterrows():\n",
    "    tweet = row['tweet_content']\n",
    "    sentiment_data.append(sentiment_scores(tweet))\n",
    "\n",
    "# Convert the list of dictionaries to a DataFrame\n",
    "sentiment_df = pd.DataFrame(sentiment_data)\n",
    "\n",
    "# Save the DataFrame to a new CSV file\n",
    "sentiment_df.to_csv(r\"D:\\uni dina\\PSM2\\_CODING\\DATASET\\sentiment_analysis_output.csv\", index=False)\n"
   ]
  },
  {
   "cell_type": "code",
   "execution_count": 23,
   "metadata": {},
   "outputs": [
    {
     "name": "stdout",
     "output_type": "stream",
     "text": [
      "Overall Positive Sentiment Percentage: 26.60%\n",
      "Overall Negative Sentiment Percentage: 73.40%\n"
     ]
    }
   ],
   "source": [
    "# Calculate overall percentage of positive and negative sentences\n",
    "positive_count = (sentiment_df['Overall Sentiment'] == 'Positive').sum()\n",
    "negative_count = (sentiment_df['Overall Sentiment'] == 'Negative').sum()\n",
    "total_tweets = len(sentiment_df)\n",
    "\n",
    "positive_percentage = (positive_count / total_tweets) * 100\n",
    "negative_percentage = (negative_count / total_tweets) * 100\n",
    "\n",
    "print(f\"Overall Positive Sentiment Percentage: {positive_percentage:.2f}%\")\n",
    "print(f\"Overall Negative Sentiment Percentage: {negative_percentage:.2f}%\")\n"
   ]
  },
  {
   "cell_type": "markdown",
   "metadata": {},
   "source": [
    "Vader"
   ]
  },
  {
   "cell_type": "code",
   "execution_count": 24,
   "metadata": {},
   "outputs": [
    {
     "name": "stdout",
     "output_type": "stream",
     "text": [
      "{'Tweet': 'Wow she suddenly cured depression and gave us world peace.', 'Negative': 0.33660130718954245, 'Positive': 0.6633986928104576, 'Overall Sentiment': 'Positive'}\n"
     ]
    }
   ],
   "source": [
    "import pandas as pd\n",
    "from vaderSentiment.vaderSentiment import SentimentIntensityAnalyzer\n",
    "\n",
    "# Initialize VADER Sentiment Analyzer\n",
    "analyzer = SentimentIntensityAnalyzer()\n",
    "\n",
    "# Function to calculate sentiment scores of the sentence\n",
    "def sentiment_scores(sentence):\n",
    "    # Create a SentimentIntensityAnalyzer object\n",
    "    sid_obj = SentimentIntensityAnalyzer()\n",
    "\n",
    "    # polarity_scores method of SentimentIntensityAnalyzer object gives a sentiment dictionary\n",
    "    sentiment_dict = sid_obj.polarity_scores(sentence)\n",
    "    \n",
    "    # Normalize positive and negative scores so they add up to 1\n",
    "    pos_score = sentiment_dict['pos']\n",
    "    neg_score = sentiment_dict['neg']\n",
    "    total_score = pos_score + neg_score\n",
    "\n",
    "    if total_score != 0:\n",
    "        pos_score /= total_score\n",
    "        neg_score /= total_score\n",
    "    \n",
    "    if sentiment_dict['compound'] >= 0.05:\n",
    "        sentiment = \"Positive\"\n",
    "    else:\n",
    "        sentiment = \"Negative\"\n",
    "\n",
    "    return {\n",
    "        \"Tweet\": sentence,\n",
    "        \"Negative\": neg_score,\n",
    "        \"Positive\": pos_score,\n",
    "        \"Overall Sentiment\": sentiment\n",
    "    }\n",
    "\n",
    "# Example usage\n",
    "example_sentence = \"Wow she suddenly cured depression and gave us world peace.\"\n",
    "result = sentiment_scores(example_sentence)\n",
    "print(result)\n"
   ]
  }
 ],
 "metadata": {
  "kernelspec": {
   "display_name": "Python 3",
   "language": "python",
   "name": "python3"
  },
  "language_info": {
   "codemirror_mode": {
    "name": "ipython",
    "version": 3
   },
   "file_extension": ".py",
   "mimetype": "text/x-python",
   "name": "python",
   "nbconvert_exporter": "python",
   "pygments_lexer": "ipython3",
   "version": "3.11.9"
  }
 },
 "nbformat": 4,
 "nbformat_minor": 2
}
